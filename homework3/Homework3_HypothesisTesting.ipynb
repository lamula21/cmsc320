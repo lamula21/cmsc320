{
 "cells": [
  {
   "cell_type": "markdown",
   "id": "3b6c7ee1",
   "metadata": {},
   "source": [
    "# Homework 3: Hypothesis Testing\n",
    "## CMSC320 Fall 2023\n",
    "### Jose Valdivia Rojas\n",
    "\n",
    "#### Introduction\n",
    "This homework will help you practice a variety of cases where hypothesis testing is needed. Refer to the variable description below when completing this assignment to help determine the best possible hypothesis test. Before performing hypothesis tests, you should investigate variables and their distributions in the dataset. For hypothesis testing, write out the null and alternate hpyothesis, use numpy/scipy to perform calculations, and detail a short conclusion. Please try to use markdown for any written analysis!\n",
    "\n",
    "[NumPy Stats Documentation](https://numpy.org/doc/stable/reference/routines.statistics.html) (Basic Statistics)\n",
    "\n",
    "[SciPy Stats Documentation](https://docs.scipy.org/doc/scipy/reference/stats.html) (Hypothesis Testing)\n",
    " \n",
    "Read Up On and Use ONLY these tests for this homework.\n",
    "- Chi-Squared Test For Independence\n",
    "- Z test\n",
    "- T Test\n",
    "- Mann-Whitney U Test\n",
    "\n",
    "#### Dataset\n",
    "\n",
    "| Variable          |Definition | Key |\n",
    "| :---------------- | :------: | ----: |\n",
    "| survival          |   Surivival   | 0 = No, 1 = Yes |\n",
    "| pclass           |    Ticket class   | 1 = 1st, 2 = 2nd, 3 = 3rd |\n",
    "| sex    |  Sex   | 19.99 |\n",
    "| age |  Age in years   | 42.99 |\n",
    "| sibsp |  # of siblings / spouses aboard the Titanic   | 42.99 |\n",
    "| parch    |  # of parents / children aboard the Titanic   | 19.99 |\n",
    "| ticket    |  Ticket   | 19.99 |\n",
    "| fare    |  Passenger Fare   | 19.99 |\n",
    "| cabin    |  Cabin Number   | 19.99 |\n",
    "| embarked    |  Port of Embarkation   | C = Cherbourg, Q = Queenstown, S = Southampton |\n",
    "\n",
    "#### Variable Notes\n",
    "pclass: A proxy for socio-economic status (SES)\n",
    "- 1st = Upper\n",
    "- 2nd = Middle\n",
    "- 3rd = Lower\n",
    "\n",
    "age: Age is fractional if less than 1. If the age is estimated, is it in the form of xx.5\n",
    "\n",
    "sibsp: The dataset defines family relations in this way...\n",
    "- Sibling = brother, sister, stepbrother, stepsister\n",
    "- Spouse = husband, wife (mistresses and fiancés were ignored)\n",
    "\n",
    "parch: The dataset defines family relations in this way...\n",
    "- Parent = mother, father\n",
    "- Child = daughter, son, stepdaughter, stepson\n",
    "- Some children travelled only with a nanny, therefore parch=0 for them."
   ]
  },
  {
   "cell_type": "markdown",
   "id": "fb94dbaf",
   "metadata": {},
   "source": [
    "## Part 1: Cleaning and Exploration of Data\n",
    "This part is not graded. Clean and explore data as you see fit."
   ]
  },
  {
   "cell_type": "code",
   "execution_count": 64,
   "id": "2148d8db",
   "metadata": {},
   "outputs": [],
   "source": [
    "import pandas as pd\n",
    "import numpy as np\n",
    "import scipy as sp"
   ]
  },
  {
   "cell_type": "code",
   "execution_count": 54,
   "id": "e2471b9a",
   "metadata": {},
   "outputs": [
    {
     "data": {
      "text/html": [
       "<div>\n",
       "<style scoped>\n",
       "    .dataframe tbody tr th:only-of-type {\n",
       "        vertical-align: middle;\n",
       "    }\n",
       "\n",
       "    .dataframe tbody tr th {\n",
       "        vertical-align: top;\n",
       "    }\n",
       "\n",
       "    .dataframe thead th {\n",
       "        text-align: right;\n",
       "    }\n",
       "</style>\n",
       "<table border=\"1\" class=\"dataframe\">\n",
       "  <thead>\n",
       "    <tr style=\"text-align: right;\">\n",
       "      <th></th>\n",
       "      <th>PassengerId</th>\n",
       "      <th>Survived</th>\n",
       "      <th>Pclass</th>\n",
       "      <th>Name</th>\n",
       "      <th>Sex</th>\n",
       "      <th>Age</th>\n",
       "      <th>SibSp</th>\n",
       "      <th>Parch</th>\n",
       "      <th>Ticket</th>\n",
       "      <th>Fare</th>\n",
       "      <th>Embarked</th>\n",
       "    </tr>\n",
       "  </thead>\n",
       "  <tbody>\n",
       "    <tr>\n",
       "      <th>0</th>\n",
       "      <td>1</td>\n",
       "      <td>0</td>\n",
       "      <td>3</td>\n",
       "      <td>Braund, Mr. Owen Harris</td>\n",
       "      <td>male</td>\n",
       "      <td>22.0</td>\n",
       "      <td>1</td>\n",
       "      <td>0</td>\n",
       "      <td>A/5 21171</td>\n",
       "      <td>7.2500</td>\n",
       "      <td>S</td>\n",
       "    </tr>\n",
       "    <tr>\n",
       "      <th>1</th>\n",
       "      <td>2</td>\n",
       "      <td>1</td>\n",
       "      <td>1</td>\n",
       "      <td>Cumings, Mrs. John Bradley (Florence Briggs Th...</td>\n",
       "      <td>female</td>\n",
       "      <td>38.0</td>\n",
       "      <td>1</td>\n",
       "      <td>0</td>\n",
       "      <td>PC 17599</td>\n",
       "      <td>71.2833</td>\n",
       "      <td>C</td>\n",
       "    </tr>\n",
       "    <tr>\n",
       "      <th>2</th>\n",
       "      <td>3</td>\n",
       "      <td>1</td>\n",
       "      <td>3</td>\n",
       "      <td>Heikkinen, Miss. Laina</td>\n",
       "      <td>female</td>\n",
       "      <td>26.0</td>\n",
       "      <td>0</td>\n",
       "      <td>0</td>\n",
       "      <td>STON/O2. 3101282</td>\n",
       "      <td>7.9250</td>\n",
       "      <td>S</td>\n",
       "    </tr>\n",
       "    <tr>\n",
       "      <th>3</th>\n",
       "      <td>4</td>\n",
       "      <td>1</td>\n",
       "      <td>1</td>\n",
       "      <td>Futrelle, Mrs. Jacques Heath (Lily May Peel)</td>\n",
       "      <td>female</td>\n",
       "      <td>35.0</td>\n",
       "      <td>1</td>\n",
       "      <td>0</td>\n",
       "      <td>113803</td>\n",
       "      <td>53.1000</td>\n",
       "      <td>S</td>\n",
       "    </tr>\n",
       "    <tr>\n",
       "      <th>4</th>\n",
       "      <td>5</td>\n",
       "      <td>0</td>\n",
       "      <td>3</td>\n",
       "      <td>Allen, Mr. William Henry</td>\n",
       "      <td>male</td>\n",
       "      <td>35.0</td>\n",
       "      <td>0</td>\n",
       "      <td>0</td>\n",
       "      <td>373450</td>\n",
       "      <td>8.0500</td>\n",
       "      <td>S</td>\n",
       "    </tr>\n",
       "    <tr>\n",
       "      <th>...</th>\n",
       "      <td>...</td>\n",
       "      <td>...</td>\n",
       "      <td>...</td>\n",
       "      <td>...</td>\n",
       "      <td>...</td>\n",
       "      <td>...</td>\n",
       "      <td>...</td>\n",
       "      <td>...</td>\n",
       "      <td>...</td>\n",
       "      <td>...</td>\n",
       "      <td>...</td>\n",
       "    </tr>\n",
       "    <tr>\n",
       "      <th>886</th>\n",
       "      <td>887</td>\n",
       "      <td>0</td>\n",
       "      <td>2</td>\n",
       "      <td>Montvila, Rev. Juozas</td>\n",
       "      <td>male</td>\n",
       "      <td>27.0</td>\n",
       "      <td>0</td>\n",
       "      <td>0</td>\n",
       "      <td>211536</td>\n",
       "      <td>13.0000</td>\n",
       "      <td>S</td>\n",
       "    </tr>\n",
       "    <tr>\n",
       "      <th>887</th>\n",
       "      <td>888</td>\n",
       "      <td>1</td>\n",
       "      <td>1</td>\n",
       "      <td>Graham, Miss. Margaret Edith</td>\n",
       "      <td>female</td>\n",
       "      <td>19.0</td>\n",
       "      <td>0</td>\n",
       "      <td>0</td>\n",
       "      <td>112053</td>\n",
       "      <td>30.0000</td>\n",
       "      <td>S</td>\n",
       "    </tr>\n",
       "    <tr>\n",
       "      <th>888</th>\n",
       "      <td>889</td>\n",
       "      <td>0</td>\n",
       "      <td>3</td>\n",
       "      <td>Johnston, Miss. Catherine Helen \"Carrie\"</td>\n",
       "      <td>female</td>\n",
       "      <td>28.0</td>\n",
       "      <td>1</td>\n",
       "      <td>2</td>\n",
       "      <td>W./C. 6607</td>\n",
       "      <td>23.4500</td>\n",
       "      <td>S</td>\n",
       "    </tr>\n",
       "    <tr>\n",
       "      <th>889</th>\n",
       "      <td>890</td>\n",
       "      <td>1</td>\n",
       "      <td>1</td>\n",
       "      <td>Behr, Mr. Karl Howell</td>\n",
       "      <td>male</td>\n",
       "      <td>26.0</td>\n",
       "      <td>0</td>\n",
       "      <td>0</td>\n",
       "      <td>111369</td>\n",
       "      <td>30.0000</td>\n",
       "      <td>C</td>\n",
       "    </tr>\n",
       "    <tr>\n",
       "      <th>890</th>\n",
       "      <td>891</td>\n",
       "      <td>0</td>\n",
       "      <td>3</td>\n",
       "      <td>Dooley, Mr. Patrick</td>\n",
       "      <td>male</td>\n",
       "      <td>32.0</td>\n",
       "      <td>0</td>\n",
       "      <td>0</td>\n",
       "      <td>370376</td>\n",
       "      <td>7.7500</td>\n",
       "      <td>Q</td>\n",
       "    </tr>\n",
       "  </tbody>\n",
       "</table>\n",
       "<p>891 rows × 11 columns</p>\n",
       "</div>"
      ],
      "text/plain": [
       "     PassengerId  Survived  Pclass  \\\n",
       "0              1         0       3   \n",
       "1              2         1       1   \n",
       "2              3         1       3   \n",
       "3              4         1       1   \n",
       "4              5         0       3   \n",
       "..           ...       ...     ...   \n",
       "886          887         0       2   \n",
       "887          888         1       1   \n",
       "888          889         0       3   \n",
       "889          890         1       1   \n",
       "890          891         0       3   \n",
       "\n",
       "                                                  Name     Sex   Age  SibSp  \\\n",
       "0                              Braund, Mr. Owen Harris    male  22.0      1   \n",
       "1    Cumings, Mrs. John Bradley (Florence Briggs Th...  female  38.0      1   \n",
       "2                               Heikkinen, Miss. Laina  female  26.0      0   \n",
       "3         Futrelle, Mrs. Jacques Heath (Lily May Peel)  female  35.0      1   \n",
       "4                             Allen, Mr. William Henry    male  35.0      0   \n",
       "..                                                 ...     ...   ...    ...   \n",
       "886                              Montvila, Rev. Juozas    male  27.0      0   \n",
       "887                       Graham, Miss. Margaret Edith  female  19.0      0   \n",
       "888           Johnston, Miss. Catherine Helen \"Carrie\"  female  28.0      1   \n",
       "889                              Behr, Mr. Karl Howell    male  26.0      0   \n",
       "890                                Dooley, Mr. Patrick    male  32.0      0   \n",
       "\n",
       "     Parch            Ticket     Fare Embarked  \n",
       "0        0         A/5 21171   7.2500        S  \n",
       "1        0          PC 17599  71.2833        C  \n",
       "2        0  STON/O2. 3101282   7.9250        S  \n",
       "3        0            113803  53.1000        S  \n",
       "4        0            373450   8.0500        S  \n",
       "..     ...               ...      ...      ...  \n",
       "886      0            211536  13.0000        S  \n",
       "887      0            112053  30.0000        S  \n",
       "888      2        W./C. 6607  23.4500        S  \n",
       "889      0            111369  30.0000        C  \n",
       "890      0            370376   7.7500        Q  \n",
       "\n",
       "[891 rows x 11 columns]"
      ]
     },
     "execution_count": 54,
     "metadata": {},
     "output_type": "execute_result"
    }
   ],
   "source": [
    "data = pd.read_csv(\"data.csv\")\n",
    "\n",
    "# dropping cabin column since it has too many missing values and does not have significance or relevance to the analysis\n",
    "data = data.drop(columns=[\"Cabin\"])\n",
    "\n",
    "\n",
    "# Mean Imputing for missing value since age column is important\n",
    "data[\"Age\"].fillna(data[\"Age\"].median(), inplace=True)\n",
    "\n",
    "# Mode Imputating for fillling missing values with the most frequent one\n",
    "data[\"Embarked\"].fillna(data[\"Embarked\"].mode()[0], inplace=True)\n",
    "\n",
    "data\n"
   ]
  },
  {
   "cell_type": "code",
   "execution_count": 68,
   "id": "d031a4d8",
   "metadata": {},
   "outputs": [
    {
     "name": "stdout",
     "output_type": "stream",
     "text": [
      "<class 'pandas.core.frame.DataFrame'>\n",
      "RangeIndex: 891 entries, 0 to 890\n",
      "Data columns (total 11 columns):\n",
      " #   Column       Non-Null Count  Dtype  \n",
      "---  ------       --------------  -----  \n",
      " 0   PassengerId  891 non-null    int64  \n",
      " 1   Survived     891 non-null    int64  \n",
      " 2   Pclass       891 non-null    int64  \n",
      " 3   Name         891 non-null    object \n",
      " 4   Sex          891 non-null    object \n",
      " 5   Age          891 non-null    float64\n",
      " 6   SibSp        891 non-null    int64  \n",
      " 7   Parch        891 non-null    int64  \n",
      " 8   Ticket       891 non-null    object \n",
      " 9   Fare         891 non-null    float64\n",
      " 10  Embarked     891 non-null    object \n",
      "dtypes: float64(2), int64(5), object(4)\n",
      "memory usage: 76.7+ KB\n"
     ]
    }
   ],
   "source": [
    "data.info()"
   ]
  },
  {
   "cell_type": "markdown",
   "id": "f5d6b3b1",
   "metadata": {},
   "source": [
    "## Part 2: Guided Research\n",
    "\n",
    "1. Determine data type (numerical, catagorical, etc) and qualifying conditions for the following hypothesis tests. These will be the hypothesis tests that you will use to complete the rest of the homework.\n",
    "    - Chi-Squared Test For Independence\n",
    "    - Z test\n",
    "    - T Test\n",
    "    - Mann-Whitney U Test\n",
    "\n",
    "Answer Here"
   ]
  },
  {
   "cell_type": "markdown",
   "id": "9c70f7df",
   "metadata": {},
   "source": [
    "## Chi-Squared Test For Independence\n",
    "- Data Type: Categorical\n",
    "- Qualifying Conditions: \n",
    "  - Appropiate When both variables are categorical\n",
    "  - Used to test independence between two categorical variables\n",
    "  \n",
    "  \n",
    "\n",
    "## Z Test\n",
    "- Data Type: Numerical\n",
    "- Qualifying Conditions:\n",
    "  - Know the standard deviation of the population or have a large sample to estimate S.D from it\n",
    "  - Appropiate for normally distributed data or large sample sizes\n",
    "  - Used to compare sample mean to a known population mean \n",
    "\n",
    "## T Test\n",
    "- Data Type: Numerical\n",
    "- Qualifying Conditions:\n",
    "  - Don't know the standard deviation.\n",
    "  - Appropiate for smaller sample sizes (n < 30)\n",
    "  - Used to compare a sample mean to a known population mean (1 sample)\n",
    "  - Used to compare means between two groups:\n",
    "    - Indenpendent Sample T Tests: Used to compare two independent groups (2 sample)\n",
    "    - Paired T Test: Used to compare for paired or dependent samples (2 sample)\n",
    "\n",
    "## Mann-Whitey U Test\n",
    "- Data Type: Numerical\n",
    "- Qualifying Conditions:\n",
    "  - Appropiate for non-normally distributed data\n",
    "  - Used to compare two independent groups when assumptions of normality are not met. In other words, used to test if there are differences in the distribution of two groups but don't assume data follows a normal distribution."
   ]
  },
  {
   "cell_type": "markdown",
   "id": "c66e0128",
   "metadata": {},
   "source": [
    "## Part 3: Hypothesis Testing with Two Catagorical Variables\n",
    "Use $\\alpha = 0.01$ for all statistical tests. Essentially, this is the treshold that you compare to the calculated p-value in order to determine statistical significance."
   ]
  },
  {
   "cell_type": "markdown",
   "id": "5957dcfd",
   "metadata": {},
   "source": [
    "### A. Surviving and Sex (Partial Example)\n",
    "Notice some of the work is already done for you to get you started.\n",
    "\n",
    "#### 1. Create Contingency Table\n",
    "|           | Male | Female |\n",
    "| :--------: | :--------: | :--------: |\n",
    "| Survived          |   81   | 233 |\n",
    "| Did not Survive   |    468  | 109 |\n",
    "\n",
    "Example code to create contigency table below"
   ]
  },
  {
   "cell_type": "code",
   "execution_count": 56,
   "id": "0c192fbd",
   "metadata": {},
   "outputs": [
    {
     "data": {
      "text/html": [
       "<div>\n",
       "<style scoped>\n",
       "    .dataframe tbody tr th:only-of-type {\n",
       "        vertical-align: middle;\n",
       "    }\n",
       "\n",
       "    .dataframe tbody tr th {\n",
       "        vertical-align: top;\n",
       "    }\n",
       "\n",
       "    .dataframe thead th {\n",
       "        text-align: right;\n",
       "    }\n",
       "</style>\n",
       "<table border=\"1\" class=\"dataframe\">\n",
       "  <thead>\n",
       "    <tr style=\"text-align: right;\">\n",
       "      <th>Survived</th>\n",
       "      <th>Not Survived</th>\n",
       "      <th>Survived</th>\n",
       "    </tr>\n",
       "    <tr>\n",
       "      <th>Sex</th>\n",
       "      <th></th>\n",
       "      <th></th>\n",
       "    </tr>\n",
       "  </thead>\n",
       "  <tbody>\n",
       "    <tr>\n",
       "      <th>female</th>\n",
       "      <td>81</td>\n",
       "      <td>233</td>\n",
       "    </tr>\n",
       "    <tr>\n",
       "      <th>male</th>\n",
       "      <td>468</td>\n",
       "      <td>109</td>\n",
       "    </tr>\n",
       "  </tbody>\n",
       "</table>\n",
       "</div>"
      ],
      "text/plain": [
       "Survived  Not Survived  Survived\n",
       "Sex                             \n",
       "female              81       233\n",
       "male               468       109"
      ]
     },
     "execution_count": 56,
     "metadata": {},
     "output_type": "execute_result"
    }
   ],
   "source": [
    "# Code to create contigency table is provided below\n",
    "\n",
    "pd.crosstab(data[\"Sex\"], data[\"Survived\"].apply(lambda x: \"Not Survived\" if x == 0 else \"Survived\"))"
   ]
  },
  {
   "cell_type": "markdown",
   "id": "7ed26b21",
   "metadata": {},
   "source": [
    "#### 2. Create Null and Alternate Hypothesis (Already done as example for this question)\n",
    "\n",
    "$N_0 = $ Sex and Survival are independent variables\n",
    "\n",
    "$N_A = $ There's a significant association between sex and survival"
   ]
  },
  {
   "cell_type": "markdown",
   "id": "952e32f9",
   "metadata": {},
   "source": [
    "#### 3. Perform Appropriate Hypothesis Test and Calculate P-Value \n",
    "Use Numpy and Scipy, Do NOT manually do calculations"
   ]
  },
  {
   "cell_type": "code",
   "execution_count": 57,
   "id": "176ca159",
   "metadata": {},
   "outputs": [
    {
     "name": "stdout",
     "output_type": "stream",
     "text": [
      "Chi-Squared Statistic: 260.71702016732104\n",
      "P-Value: 1.1973570627755645e-58\n",
      "Reject the null hypothesis: There is a significant association between sex and survival.\n"
     ]
    }
   ],
   "source": [
    "######################################################\n",
    "# Performing Chi-Squared Test for Independence\n",
    "######################################################\n",
    "\n",
    "from scipy.stats import chi2_contingency # for chi-square test\n",
    "\n",
    "# Create the contingency table as a NumPy array\n",
    "arr = np.array([[81, 233], [468, 109]])\n",
    "\n",
    "# Perform the Chi-Squared Test for Independence\n",
    "chi2, p, _, _ = chi2_contingency(arr)\n",
    "\n",
    "# Output the results\n",
    "print(f\"Chi-Squared Statistic: {chi2}\")\n",
    "print(f\"P-Value: {p}\")\n",
    "\n",
    "# Compare the p-value to the alpha level (0.01)\n",
    "alpha = 0.01\n",
    "\n",
    "if p < alpha:\n",
    "    print(\"Reject the null hypothesis: There is a significant association between sex and survival.\")\n",
    "else:\n",
    "    print(\"Fail to reject the null hypothesis: Sex and survival are independent variables.\")"
   ]
  },
  {
   "cell_type": "markdown",
   "id": "7b4a8bd6",
   "metadata": {},
   "source": [
    "#### 4. Interpret Results\n",
    "Be specific. Determine whether to reject or accept the Null Hypothesis. Was there a group in particular that was more likely to survive the Titanic?"
   ]
  },
  {
   "cell_type": "markdown",
   "id": "59aa63d4",
   "metadata": {},
   "source": [
    "#### Answer\n",
    "Since the p-value (very small value close to zero) is significantly smaller than alpha (0.01), **we reject the null hypothesis**\n",
    "\n",
    "Rejecting null hypothesis means that there is a significant association between sex and survival. In the dataset, this implies that gender played a significant role in determining people survival. 81 males survived while 233 females survived from the contigency table. This data aligns with the historical events where children and women were prioritized during evacuation of Titanic."
   ]
  },
  {
   "cell_type": "markdown",
   "id": "e796ef61",
   "metadata": {},
   "source": [
    "### B. Surviving and Ticket Class\n",
    "#### 1. Create Contingency Table"
   ]
  },
  {
   "cell_type": "code",
   "execution_count": 58,
   "id": "b0afdcee",
   "metadata": {},
   "outputs": [
    {
     "data": {
      "text/html": [
       "<div>\n",
       "<style scoped>\n",
       "    .dataframe tbody tr th:only-of-type {\n",
       "        vertical-align: middle;\n",
       "    }\n",
       "\n",
       "    .dataframe tbody tr th {\n",
       "        vertical-align: top;\n",
       "    }\n",
       "\n",
       "    .dataframe thead th {\n",
       "        text-align: right;\n",
       "    }\n",
       "</style>\n",
       "<table border=\"1\" class=\"dataframe\">\n",
       "  <thead>\n",
       "    <tr style=\"text-align: right;\">\n",
       "      <th>Survived</th>\n",
       "      <th>Not Survived</th>\n",
       "      <th>Survived</th>\n",
       "    </tr>\n",
       "    <tr>\n",
       "      <th>Pclass</th>\n",
       "      <th></th>\n",
       "      <th></th>\n",
       "    </tr>\n",
       "  </thead>\n",
       "  <tbody>\n",
       "    <tr>\n",
       "      <th>1</th>\n",
       "      <td>80</td>\n",
       "      <td>136</td>\n",
       "    </tr>\n",
       "    <tr>\n",
       "      <th>2</th>\n",
       "      <td>97</td>\n",
       "      <td>87</td>\n",
       "    </tr>\n",
       "    <tr>\n",
       "      <th>3</th>\n",
       "      <td>372</td>\n",
       "      <td>119</td>\n",
       "    </tr>\n",
       "  </tbody>\n",
       "</table>\n",
       "</div>"
      ],
      "text/plain": [
       "Survived  Not Survived  Survived\n",
       "Pclass                          \n",
       "1                   80       136\n",
       "2                   97        87\n",
       "3                  372       119"
      ]
     },
     "execution_count": 58,
     "metadata": {},
     "output_type": "execute_result"
    }
   ],
   "source": [
    "pd.crosstab(data[\"Pclass\"], data[\"Survived\"].apply(lambda x: \"Not Survived\" if x == 0 else \"Survived\"))"
   ]
  },
  {
   "cell_type": "markdown",
   "id": "2cf96748",
   "metadata": {},
   "source": [
    "#### 2. Create Null and Alternate Hypothesis\n",
    "\n"
   ]
  },
  {
   "cell_type": "markdown",
   "id": "268a9463",
   "metadata": {},
   "source": [
    "$N_0 = $ There is no significant association between the ticket class and survival. Ticket class and Survival are independent variables.\n",
    "\n",
    "$N_A = $ There's a significant association between ticket class and survival. Ticket class of passengers is associated with their likelihood of survival on the Titanic."
   ]
  },
  {
   "cell_type": "markdown",
   "id": "5c42fbc4",
   "metadata": {},
   "source": [
    "#### 3. Perform Appropriate Hypothesis Test and Calculate P-Value "
   ]
  },
  {
   "cell_type": "code",
   "execution_count": 59,
   "id": "d7c8e8df",
   "metadata": {},
   "outputs": [
    {
     "name": "stdout",
     "output_type": "stream",
     "text": [
      "Chi-Squared Statistic: 102.88898875696056\n",
      "P-Value: 4.549251711298793e-23\n",
      "Reject the null hypothesis: There is a significant association between ticket class and survival.\n"
     ]
    }
   ],
   "source": [
    "######################################################\n",
    "# Performing Chi-Squared Test for Independence\n",
    "######################################################\n",
    "\n",
    "from scipy.stats import chi2_contingency # for chi-square test\n",
    "\n",
    "# contingency table\n",
    "contingency_table = pd.crosstab(data[\"Pclass\"], data[\"Survived\"].apply(lambda x: \"Not Survived\" if x == 0 else \"Survived\"))\n",
    "\n",
    "# Perform the Chi-Squared Test for Independence\n",
    "chi2, p, _, _ = chi2_contingency(contingency_table)\n",
    "\n",
    "# Output the results\n",
    "print(f\"Chi-Squared Statistic: {chi2}\")\n",
    "print(f\"P-Value: {p}\")\n",
    "\n",
    "# Compare the p-value to the alpha level (0.01)\n",
    "alpha = 0.01\n",
    "if p < alpha:\n",
    "    print(\"Reject the null hypothesis: There is a significant association between ticket class and survival.\")\n",
    "else:\n",
    "    print(\"Fail to reject the null hypothesis: Ticket class and survival are independent variables.\")"
   ]
  },
  {
   "cell_type": "markdown",
   "id": "60dffc0b",
   "metadata": {},
   "source": [
    "#### 4. Interpret Results"
   ]
  },
  {
   "cell_type": "markdown",
   "id": "a37e0492",
   "metadata": {},
   "source": [
    "Since the p-value 1.1813624785477922e-22 (very small value close to zero) is significantly smaller than alpha (0.01), **we reject the null hypothesis**\n",
    "\n",
    "Rejecting null hypothesis means that there is a significant association between ticket class and survival. In the dataset, the ticket class played a significant role in determining passenger survival. \n",
    "\n",
    "**First-class** had a higher likelihood of survival compared to third-class and **second-class** had higher likelihood of survival compared to third-class.\n",
    "\n",
    "This aligns with the historical events in Titanic, where higher-class passengers were prioritized along with women and childs. \n"
   ]
  },
  {
   "cell_type": "markdown",
   "id": "955d9c93",
   "metadata": {},
   "source": [
    "### C. Surviving and Embarked Location\n",
    "#### 1. Create Contingency Table"
   ]
  },
  {
   "cell_type": "code",
   "execution_count": 60,
   "id": "74a7dce8",
   "metadata": {},
   "outputs": [
    {
     "data": {
      "text/html": [
       "<div>\n",
       "<style scoped>\n",
       "    .dataframe tbody tr th:only-of-type {\n",
       "        vertical-align: middle;\n",
       "    }\n",
       "\n",
       "    .dataframe tbody tr th {\n",
       "        vertical-align: top;\n",
       "    }\n",
       "\n",
       "    .dataframe thead th {\n",
       "        text-align: right;\n",
       "    }\n",
       "</style>\n",
       "<table border=\"1\" class=\"dataframe\">\n",
       "  <thead>\n",
       "    <tr style=\"text-align: right;\">\n",
       "      <th>Survived</th>\n",
       "      <th>Not Survived</th>\n",
       "      <th>Survived</th>\n",
       "    </tr>\n",
       "    <tr>\n",
       "      <th>Embarked</th>\n",
       "      <th></th>\n",
       "      <th></th>\n",
       "    </tr>\n",
       "  </thead>\n",
       "  <tbody>\n",
       "    <tr>\n",
       "      <th>C</th>\n",
       "      <td>75</td>\n",
       "      <td>93</td>\n",
       "    </tr>\n",
       "    <tr>\n",
       "      <th>Q</th>\n",
       "      <td>47</td>\n",
       "      <td>30</td>\n",
       "    </tr>\n",
       "    <tr>\n",
       "      <th>S</th>\n",
       "      <td>427</td>\n",
       "      <td>219</td>\n",
       "    </tr>\n",
       "  </tbody>\n",
       "</table>\n",
       "</div>"
      ],
      "text/plain": [
       "Survived  Not Survived  Survived\n",
       "Embarked                        \n",
       "C                   75        93\n",
       "Q                   47        30\n",
       "S                  427       219"
      ]
     },
     "execution_count": 60,
     "metadata": {},
     "output_type": "execute_result"
    }
   ],
   "source": [
    "pd.crosstab(data[\"Embarked\"], data[\"Survived\"].apply(lambda x: \"Not Survived\" if x == 0 else \"Survived\"))"
   ]
  },
  {
   "cell_type": "markdown",
   "id": "ca0ba945",
   "metadata": {},
   "source": [
    "#### 2. Create Null and Alternate Hypothesis "
   ]
  },
  {
   "cell_type": "markdown",
   "id": "ec7927ce",
   "metadata": {},
   "source": [
    "$N_0 = $ The location of embark and survival are not significant associated\n",
    "\n",
    "$N_A = $ There's a significant association between the embarkation location and survival"
   ]
  },
  {
   "cell_type": "markdown",
   "id": "4c1d916b",
   "metadata": {},
   "source": [
    "#### 3. Perform Appropriate Hypothesis Test and Calculate P-Value"
   ]
  },
  {
   "cell_type": "code",
   "execution_count": 61,
   "id": "233113b9",
   "metadata": {},
   "outputs": [
    {
     "name": "stdout",
     "output_type": "stream",
     "text": [
      "Chi-Squared Statistic: 25.964452881874784\n",
      "P-Value: 2.3008626481449577e-06\n",
      "Reject the null hypothesis: There is a significant association between embarkation location and survival.\n"
     ]
    }
   ],
   "source": [
    "from scipy.stats import chi2_contingency # for chi-square test\n",
    "\n",
    "# contingency table\n",
    "contingency_table = pd.crosstab(data[\"Embarked\"], data[\"Survived\"].apply(lambda x: \"Not Survived\" if x == 0 else \"Survived\"))\n",
    "\n",
    "\n",
    "# Perform the Chi-Squared Test for Independence\n",
    "chi2, p, _, _ = chi2_contingency(contingency_table)\n",
    "\n",
    "print(f\"Chi-Squared Statistic: {chi2}\")\n",
    "print(f\"P-Value: {p}\")\n",
    "\n",
    "# Compare the p-value to the alpha level (0.01)\n",
    "alpha = 0.01\n",
    "if p < alpha:\n",
    "    print(\"Reject the null hypothesis: There is a significant association between embarkation location and survival.\")\n",
    "else:\n",
    "    print(\"Fail to reject the null hypothesis: Embarkation location and survival are independent variables.\")"
   ]
  },
  {
   "cell_type": "markdown",
   "id": "cb4da4dd",
   "metadata": {},
   "source": [
    "#### 4. Interpret Results "
   ]
  },
  {
   "cell_type": "markdown",
   "id": "78ded455",
   "metadata": {},
   "source": [
    "Since this **p-value** 2.30e-06 is significantly smaller than the alpha level of 0.01, we reject the null hypothesis. This means that there is a significant association between the embarkation location and survival. This implies that passengers who boarded at different locations had different chances of survival"
   ]
  },
  {
   "cell_type": "markdown",
   "id": "f98a211e",
   "metadata": {},
   "source": [
    "## Part 4: Hypothesis Testing with Numeric Variables"
   ]
  },
  {
   "cell_type": "markdown",
   "id": "9d59585e",
   "metadata": {},
   "source": [
    "### A. Surviving and Age (Partial Example)\n",
    "#### 1. Understand the distribution of the two populations (Normal or Not Normal)\n",
    "\n",
    "The distributions are plotted for you below in this partial example. As shown by the graphs below, distribution of age for both groups (survived and not survived) is found to be approximately normal.\n",
    "\n",
    "Hint: Notice that there are missing values for age and you will have to handle this before performing hypothesis tests!"
   ]
  },
  {
   "cell_type": "code",
   "execution_count": 66,
   "id": "26ea622a",
   "metadata": {},
   "outputs": [
    {
     "data": {
      "text/plain": [
       "Text(0.5, 1.0, 'Histogram of Age of People who Survived')"
      ]
     },
     "execution_count": 66,
     "metadata": {},
     "output_type": "execute_result"
    },
    {
     "data": {
      "image/png": "[encoded data removed]",
      "text/plain": [
       "<Figure size 640x480 with 1 Axes>"
      ]
     },
     "metadata": {},
     "output_type": "display_data"
    }
   ],
   "source": [
    "survived = data.loc[data[\"Survived\"] == 1]\n",
    "no_survived = data.loc[data[\"Survived\"] == 0]\n",
    "ax = survived[\"Age\"].hist()\n",
    "ax.set_xlabel(\"Age\")\n",
    "ax.set_ylabel(\"Frequency\")\n",
    "ax.set_title(\"Histogram of Age of People who Survived\")"
   ]
  },
  {
   "cell_type": "code",
   "execution_count": 67,
   "id": "bb1191be",
   "metadata": {},
   "outputs": [
    {
     "data": {
      "text/plain": [
       "Text(0.5, 1.0, 'Histogram of Age of People who did not Survived')"
      ]
     },
     "execution_count": 67,
     "metadata": {},
     "output_type": "execute_result"
    },
    {
     "data": {
      "image/png": "[encoded data removed]",
      "text/plain": [
       "<Figure size 640x480 with 1 Axes>"
      ]
     },
     "metadata": {},
     "output_type": "display_data"
    }
   ],
   "source": [
    "ax = no_survived[\"Age\"].hist()\n",
    "ax.set_xlabel(\"Age\")\n",
    "ax.set_ylabel(\"Frequency\")\n",
    "ax.set_title(\"Histogram of Age of People who did not Survived\")"
   ]
  },
  {
   "cell_type": "markdown",
   "id": "f0623891",
   "metadata": {},
   "source": [
    "#### 2. Create Null and Alternate Hypothesis "
   ]
  },
  {
   "cell_type": "markdown",
   "id": "3ab7ce15",
   "metadata": {},
   "source": [
    "$N_0 = $ The mean age of people who survived is equal to the mean age of people who did not survive.\n",
    "\n",
    "$N_A = $ The mean age of people who survived is not equal to the mean age of people who did not survive"
   ]
  },
  {
   "cell_type": "markdown",
   "id": "b70fb7da",
   "metadata": {},
   "source": [
    "#### 3. Perform Appropriate Hypothesis Test and Calculate P-Value (Use the fact that the distribution is approximately normal to select your hypothesis test)"
   ]
  },
  {
   "cell_type": "markdown",
   "id": "5badcbb7",
   "metadata": {},
   "source": [
    "Since the distribution of age for both groups survided and not survived is approximately normal, I will perform a Independent (two-sample) T Test to compare the means of these two groups."
   ]
  },
  {
   "cell_type": "code",
   "execution_count": 72,
   "id": "07d4aa86",
   "metadata": {},
   "outputs": [
    {
     "name": "stdout",
     "output_type": "stream",
     "text": [
      "T-Statistic: -1.9394659179476366\n",
      "P-Value: 0.0527606884758555\n",
      "Fail to reject the null hypothesis: There is no significant difference in the ages of survivors and non-survivors.\n"
     ]
    }
   ],
   "source": [
    "from scipy.stats import ttest_ind\n",
    "\n",
    "# Extract the age data for both groups\n",
    "age_survived = data.loc[data[\"Survived\"] == 1][\"Age\"]\n",
    "age_not_survived = data.loc[data[\"Survived\"] == 0][\"Age\"]\n",
    "\n",
    "# Perform the two-sample t-test\n",
    "t_test, p_value = ttest_ind(age_survived, age_not_survived)\n",
    "\n",
    "# Output the results\n",
    "print(f\"T-Statistic: {t_test}\")\n",
    "print(f\"P-Value: {p_value}\")\n",
    "\n",
    "# Compare the p-value to the alpha level (0.01)\n",
    "alpha = 0.01\n",
    "if p_value < alpha:\n",
    "    print(\"Reject the null hypothesis: There is a significant difference in the ages of survivors and non-survivors.\")\n",
    "else:\n",
    "    print(\"Fail to reject the null hypothesis: There is no significant difference in the ages of survivors and non-survivors.\")\n"
   ]
  },
  {
   "cell_type": "markdown",
   "id": "46591992",
   "metadata": {},
   "source": [
    "#### 4. Interpret Results"
   ]
  },
  {
   "cell_type": "markdown",
   "id": "fbc19e6e",
   "metadata": {},
   "source": [
    "The t-statistic is approximately -1.939 and the p-value is approximately 0.0528. Since the p-value (0.0528) is greater than the chosen alpha level (0.01), we fail to reject the null hypothesis. This means there is no significant difference in the ages of survivors and non-survivors. In other words, the data does not provide sufficient evidence to conclude that the mean age of survivors is different from the mean age of non-survivors.\n",
    "\n",
    "In conclusion, age alone may not be a strong factor for passenger survival on the Titanic."
   ]
  },
  {
   "cell_type": "markdown",
   "id": "ea0e4302",
   "metadata": {},
   "source": [
    "### B. Surviving and Fare\n",
    "#### 1. Understand the distribution of the two populations (Normal or Not Normal)\n",
    "Plot the distributions like in previous question. Use plots to determine normality."
   ]
  },
  {
   "cell_type": "code",
   "execution_count": 74,
   "id": "cfad2875",
   "metadata": {},
   "outputs": [
    {
     "data": {
      "text/plain": [
       "Text(0.5, 1.0, 'Histogram of Fare of People who Survived')"
      ]
     },
     "execution_count": 74,
     "metadata": {},
     "output_type": "execute_result"
    },
    {
     "data": {
      "image/png": "[encoded data removed]",
      "text/plain": [
       "<Figure size 640x480 with 1 Axes>"
      ]
     },
     "metadata": {},
     "output_type": "display_data"
    }
   ],
   "source": [
    "fare_survived = data.loc[data[\"Survived\"] == 1]\n",
    "fare_not_survived = data.loc[data[\"Survived\"] == 0]\n",
    "ax = fare_survived[\"Fare\"].hist()\n",
    "ax.set_xlabel(\"Fare\")\n",
    "ax.set_ylabel(\"Frequency\")\n",
    "ax.set_title(\"Histogram of Fare of People who Survived\")"
   ]
  },
  {
   "cell_type": "code",
   "execution_count": 75,
   "id": "47752058",
   "metadata": {},
   "outputs": [
    {
     "data": {
      "text/plain": [
       "Text(0.5, 1.0, 'Histogram of Fare of People who did not Survived')"
      ]
     },
     "execution_count": 75,
     "metadata": {},
     "output_type": "execute_result"
    },
    {
     "data": {
      "image/png": "[encoded data removed]",
      "text/plain": [
       "<Figure size 640x480 with 1 Axes>"
      ]
     },
     "metadata": {},
     "output_type": "display_data"
    }
   ],
   "source": [
    "ax = fare_not_survived[\"Fare\"].hist()\n",
    "ax.set_xlabel(\"Fare\")\n",
    "ax.set_ylabel(\"Frequency\")\n",
    "ax.set_title(\"Histogram of Fare of People who did not Survived\")"
   ]
  },
  {
   "cell_type": "markdown",
   "id": "d44866c5",
   "metadata": {},
   "source": [
    "#### 2. Create Null and Alternate Hypothesis "
   ]
  },
  {
   "cell_type": "markdown",
   "id": "b75a4d9e",
   "metadata": {},
   "source": [
    "$N_0 = $ The mean fare of people who survived is equal to the mean fare of people who did not survive.\n",
    "\n",
    "$N_A = $ The mean fare of people who survived is not equal to the mean fare of people who did not survive"
   ]
  },
  {
   "cell_type": "markdown",
   "id": "6cf580ae",
   "metadata": {},
   "source": [
    "#### 3. Perform Appropriate Hypothesis Test and Calculate P-Value (Use characteristics from distribution)"
   ]
  },
  {
   "cell_type": "markdown",
   "id": "e2ffb27d",
   "metadata": {},
   "source": [
    "Both the \"Survived\" and \"Not Survived\" groups do not appear to be normal distributed in the histograms, and the data may not meet the assumptions of normality, so a non-parametric test to compare the medians of the two groups will be suitable here. \n",
    "\n",
    "That being said, I will perform Mann-Whitney U Test since it is appropiate for non-normally distributed data and I wil use it to compare two independent groups (surviving and fare) when assumptions of normality are not met."
   ]
  },
  {
   "cell_type": "code",
   "execution_count": 76,
   "id": "8d486a92",
   "metadata": {},
   "outputs": [
    {
     "name": "stdout",
     "output_type": "stream",
     "text": [
      "Mann-Whitney U Statistic: 129951.5\n",
      "P-Value: 4.553477179250237e-22\n",
      "Reject the null hypothesis: There is a significant difference in the fares paid by survivors and non-survivors.\n"
     ]
    }
   ],
   "source": [
    "from scipy.stats import mannwhitneyu\n",
    "\n",
    "# Extract the fare data for both groups\n",
    "fare_survived = data.loc[data[\"Survived\"] == 1][\"Fare\"].dropna()\n",
    "fare_not_survived = data.loc[data[\"Survived\"] == 0][\"Fare\"].dropna()\n",
    "\n",
    "# Perform the Mann-Whitney U Test\n",
    "statistic, p_value = mannwhitneyu(fare_survived, fare_not_survived)\n",
    "\n",
    "# Output the results\n",
    "print(f\"Mann-Whitney U Statistic: {statistic}\")\n",
    "print(f\"P-Value: {p_value}\")\n",
    "\n",
    "# Compare the p-value to the alpha level (0.01)\n",
    "alpha = 0.01\n",
    "\n",
    "if p_value < alpha:\n",
    "    print(\"Reject the null hypothesis: There is a significant difference in the fares paid by survivors and non-survivors.\")\n",
    "else:\n",
    "    print(\"Fail to reject the null hypothesis: There is no significant difference in the fares paid by survivors and non-survivors.\")"
   ]
  },
  {
   "cell_type": "markdown",
   "id": "42b6b7fe",
   "metadata": {},
   "source": [
    "#### 4. Interpret Results"
   ]
  },
  {
   "cell_type": "markdown",
   "id": "706dc867",
   "metadata": {},
   "source": [
    "The Mann-Whitney U Statistic is approximately 129,951.5, and the p-value is approximately 4.55e-22. Since this p-value is significantly smaller than the alpha level of 0.01, we reject the null hypothesis. This means there is a significant difference in the fares paid by survivors and non-survivors. That is, the data provides strong evidence that the median fare paid by passengers who survived is different from the median fare paid by passengers who did not survive. \n",
    "\n",
    "The results suggest that the fare paid by passengers was associated with their likelihood of survival. Passengers who paid higher fares had a higher chance of survival."
   ]
  }
 ],
 "metadata": {
  "kernelspec": {
   "display_name": "Python 3",
   "language": "python",
   "name": "python3"
  },
  "language_info": {
   "codemirror_mode": {
    "name": "ipython",
    "version": 3
   },
   "file_extension": ".py",
   "mimetype": "text/x-python",
   "name": "python",
   "nbconvert_exporter": "python",
   "pygments_lexer": "ipython3",
   "version": "3.10.10"
  }
 },
 "nbformat": 4,
 "nbformat_minor": 5
}
