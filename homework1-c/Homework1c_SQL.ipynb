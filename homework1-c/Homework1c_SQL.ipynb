{
  "cells": [
    {
      "cell_type": "markdown",
      "metadata": {
        "id": "kq9l5TTbbfX1"
      },
      "source": [
        "# Homework 1c Part 3: SQL\n",
        "\n",
        "To start with, if you felt the class was unclear, check out the following tutorial: https://mode.com/sql-tutorial/introduction-to-sql/\n",
        "\n",
        "Now! We'll be using sqlite to access a database. Start by downloading the sql lite file and putting it in the same directory as this notebook: https://www.kaggle.com/datasets/kaggle/sf-salaries (hit the 'download' button in the upper right). Check out the description of the data so you know the table / column names.\n",
        "\n",
        "The following code will use sqlite to create a database connection."
      ]
    },
    {
      "cell_type": "code",
      "execution_count": 95,
      "metadata": {
        "id": "5zYLUNERbfX4"
      },
      "outputs": [],
      "source": [
        "import sqlite3\n",
        "import pandas as pd\n",
        "\n",
        "conn = sqlite3.connect(\"database.sqlite\")\n",
        "crsr = conn.cursor()"
      ]
    },
    {
      "cell_type": "markdown",
      "metadata": {
        "id": "a9pamqAqDcg6"
      },
      "source": [
        "Before we proceed, please note that every task **must be completed using a single SQL query**, unless mentioned otherwise or given as prompt.     \n",
        "(e.g. using print statements are fine, but you should not be using pandas library to work with the dataset.)"
      ]
    },
    {
      "cell_type": "markdown",
      "metadata": {
        "id": "bj-H6rTJbfYD"
      },
      "source": [
        "# Exploration\n",
        "\n",
        "Problem 1:\n",
        "\n",
        "Try to create a query that gives you a data frame of the EmployeeName, JobTitle, and BasePay from the salaries table."
      ]
    },
    {
      "cell_type": "code",
      "execution_count": 96,
      "metadata": {
        "id": "8GDwQgXbbfYD"
      },
      "outputs": [
        {
          "data": {
            "text/html": [
              "<div>\n",
              "<style scoped>\n",
              "    .dataframe tbody tr th:only-of-type {\n",
              "        vertical-align: middle;\n",
              "    }\n",
              "\n",
              "    .dataframe tbody tr th {\n",
              "        vertical-align: top;\n",
              "    }\n",
              "\n",
              "    .dataframe thead th {\n",
              "        text-align: right;\n",
              "    }\n",
              "</style>\n",
              "<table border=\"1\" class=\"dataframe\">\n",
              "  <thead>\n",
              "    <tr style=\"text-align: right;\">\n",
              "      <th></th>\n",
              "      <th>EmployeeName</th>\n",
              "      <th>JobTitle</th>\n",
              "      <th>BasePay</th>\n",
              "    </tr>\n",
              "  </thead>\n",
              "  <tbody>\n",
              "    <tr>\n",
              "      <th>0</th>\n",
              "      <td>NATHANIEL FORD</td>\n",
              "      <td>GENERAL MANAGER-METROPOLITAN TRANSIT AUTHORITY</td>\n",
              "      <td>167411.18</td>\n",
              "    </tr>\n",
              "    <tr>\n",
              "      <th>1</th>\n",
              "      <td>GARY JIMENEZ</td>\n",
              "      <td>CAPTAIN III (POLICE DEPARTMENT)</td>\n",
              "      <td>155966.02</td>\n",
              "    </tr>\n",
              "    <tr>\n",
              "      <th>2</th>\n",
              "      <td>ALBERT PARDINI</td>\n",
              "      <td>CAPTAIN III (POLICE DEPARTMENT)</td>\n",
              "      <td>212739.13</td>\n",
              "    </tr>\n",
              "    <tr>\n",
              "      <th>3</th>\n",
              "      <td>CHRISTOPHER CHONG</td>\n",
              "      <td>WIRE ROPE CABLE MAINTENANCE MECHANIC</td>\n",
              "      <td>77916</td>\n",
              "    </tr>\n",
              "    <tr>\n",
              "      <th>4</th>\n",
              "      <td>PATRICK GARDNER</td>\n",
              "      <td>DEPUTY CHIEF OF DEPARTMENT,(FIRE DEPARTMENT)</td>\n",
              "      <td>134401.6</td>\n",
              "    </tr>\n",
              "  </tbody>\n",
              "</table>\n",
              "</div>"
            ],
            "text/plain": [
              "        EmployeeName                                        JobTitle  \\\n",
              "0     NATHANIEL FORD  GENERAL MANAGER-METROPOLITAN TRANSIT AUTHORITY   \n",
              "1       GARY JIMENEZ                 CAPTAIN III (POLICE DEPARTMENT)   \n",
              "2     ALBERT PARDINI                 CAPTAIN III (POLICE DEPARTMENT)   \n",
              "3  CHRISTOPHER CHONG            WIRE ROPE CABLE MAINTENANCE MECHANIC   \n",
              "4    PATRICK GARDNER    DEPUTY CHIEF OF DEPARTMENT,(FIRE DEPARTMENT)   \n",
              "\n",
              "     BasePay  \n",
              "0  167411.18  \n",
              "1  155966.02  \n",
              "2  212739.13  \n",
              "3      77916  \n",
              "4   134401.6  "
            ]
          },
          "execution_count": 96,
          "metadata": {},
          "output_type": "execute_result"
        }
      ],
      "source": [
        "query = 'SELECT EmployeeName, JobTitle, BasePay FROM salaries'\n",
        "\n",
        "df = pd.read_sql(query, conn)\n",
        "df.head()"
      ]
    },
    {
      "cell_type": "markdown",
      "metadata": {
        "id": "3mOF-xT2bfYD"
      },
      "source": [
        "Problem 2.\n",
        "\n",
        "Modify your query from Problem 1 to limit it to the year 2012."
      ]
    },
    {
      "cell_type": "code",
      "execution_count": 97,
      "metadata": {
        "id": "Tp7IUORAbfYD"
      },
      "outputs": [
        {
          "data": {
            "text/html": [
              "<div>\n",
              "<style scoped>\n",
              "    .dataframe tbody tr th:only-of-type {\n",
              "        vertical-align: middle;\n",
              "    }\n",
              "\n",
              "    .dataframe tbody tr th {\n",
              "        vertical-align: top;\n",
              "    }\n",
              "\n",
              "    .dataframe thead th {\n",
              "        text-align: right;\n",
              "    }\n",
              "</style>\n",
              "<table border=\"1\" class=\"dataframe\">\n",
              "  <thead>\n",
              "    <tr style=\"text-align: right;\">\n",
              "      <th></th>\n",
              "      <th>EmployeeName</th>\n",
              "      <th>JobTitle</th>\n",
              "      <th>BasePay</th>\n",
              "    </tr>\n",
              "  </thead>\n",
              "  <tbody>\n",
              "    <tr>\n",
              "      <th>0</th>\n",
              "      <td>Gary Altenberg</td>\n",
              "      <td>Lieutenant, Fire Suppression</td>\n",
              "      <td>128808.87</td>\n",
              "    </tr>\n",
              "    <tr>\n",
              "      <th>1</th>\n",
              "      <td>Gregory Suhr</td>\n",
              "      <td>Chief of Police</td>\n",
              "      <td>302578.00</td>\n",
              "    </tr>\n",
              "    <tr>\n",
              "      <th>2</th>\n",
              "      <td>Khoa Trinh</td>\n",
              "      <td>Electronic Maintenance Tech</td>\n",
              "      <td>111921.00</td>\n",
              "    </tr>\n",
              "    <tr>\n",
              "      <th>3</th>\n",
              "      <td>Joanne Hayes-White</td>\n",
              "      <td>Chief, Fire Department</td>\n",
              "      <td>296943.01</td>\n",
              "    </tr>\n",
              "    <tr>\n",
              "      <th>4</th>\n",
              "      <td>Frederick Binkley</td>\n",
              "      <td>EMT/Paramedic/Firefighter</td>\n",
              "      <td>126863.19</td>\n",
              "    </tr>\n",
              "  </tbody>\n",
              "</table>\n",
              "</div>"
            ],
            "text/plain": [
              "         EmployeeName                      JobTitle    BasePay\n",
              "0      Gary Altenberg  Lieutenant, Fire Suppression  128808.87\n",
              "1        Gregory Suhr               Chief of Police  302578.00\n",
              "2          Khoa Trinh   Electronic Maintenance Tech  111921.00\n",
              "3  Joanne Hayes-White        Chief, Fire Department  296943.01\n",
              "4   Frederick Binkley     EMT/Paramedic/Firefighter  126863.19"
            ]
          },
          "execution_count": 97,
          "metadata": {},
          "output_type": "execute_result"
        }
      ],
      "source": [
        "query = 'SELECT EmployeeName, JobTitle, BasePay FROM salaries WHERE Year = 2012'\n",
        "\n",
        "df = pd.read_sql(query, conn)\n",
        "df.head()"
      ]
    },
    {
      "cell_type": "markdown",
      "metadata": {
        "id": "qPANFJ79bfYD"
      },
      "source": [
        "Problem 3:\n",
        "\n",
        "Further limit the table to the year 2012, employees making under 150,000, and sort in descending order by salary."
      ]
    },
    {
      "cell_type": "code",
      "execution_count": 98,
      "metadata": {
        "id": "nYeg8usLbfYD"
      },
      "outputs": [
        {
          "data": {
            "text/html": [
              "<div>\n",
              "<style scoped>\n",
              "    .dataframe tbody tr th:only-of-type {\n",
              "        vertical-align: middle;\n",
              "    }\n",
              "\n",
              "    .dataframe tbody tr th {\n",
              "        vertical-align: top;\n",
              "    }\n",
              "\n",
              "    .dataframe thead th {\n",
              "        text-align: right;\n",
              "    }\n",
              "</style>\n",
              "<table border=\"1\" class=\"dataframe\">\n",
              "  <thead>\n",
              "    <tr style=\"text-align: right;\">\n",
              "      <th></th>\n",
              "      <th>EmployeeName</th>\n",
              "      <th>JobTitle</th>\n",
              "      <th>BasePay</th>\n",
              "    </tr>\n",
              "  </thead>\n",
              "  <tbody>\n",
              "    <tr>\n",
              "      <th>0</th>\n",
              "      <td>Kevin Salas</td>\n",
              "      <td>Firefighter</td>\n",
              "      <td>110847.11</td>\n",
              "    </tr>\n",
              "    <tr>\n",
              "      <th>1</th>\n",
              "      <td>Delene Wolf</td>\n",
              "      <td>Dept Head I</td>\n",
              "      <td>146497.50</td>\n",
              "    </tr>\n",
              "    <tr>\n",
              "      <th>2</th>\n",
              "      <td>Steven Stocker</td>\n",
              "      <td>Sergeant 3</td>\n",
              "      <td>135977.79</td>\n",
              "    </tr>\n",
              "    <tr>\n",
              "      <th>3</th>\n",
              "      <td>Wayne Yu</td>\n",
              "      <td>Electronic Maintenance Tech</td>\n",
              "      <td>101088.00</td>\n",
              "    </tr>\n",
              "    <tr>\n",
              "      <th>4</th>\n",
              "      <td>Eric Altorfer</td>\n",
              "      <td>Sergeant 2</td>\n",
              "      <td>129175.75</td>\n",
              "    </tr>\n",
              "  </tbody>\n",
              "</table>\n",
              "</div>"
            ],
            "text/plain": [
              "     EmployeeName                     JobTitle    BasePay\n",
              "0     Kevin Salas                  Firefighter  110847.11\n",
              "1     Delene Wolf                  Dept Head I  146497.50\n",
              "2  Steven Stocker                   Sergeant 3  135977.79\n",
              "3        Wayne Yu  Electronic Maintenance Tech  101088.00\n",
              "4   Eric Altorfer                   Sergeant 2  129175.75"
            ]
          },
          "execution_count": 98,
          "metadata": {},
          "output_type": "execute_result"
        }
      ],
      "source": [
        "query = 'SELECT EmployeeName, JobTitle, BasePay FROM salaries WHERE Year = 2012 AND TotalPay <= 150000 ORDER BY TotalPay DESC'\n",
        "\n",
        "df = pd.read_sql(query, conn)\n",
        "df.head()"
      ]
    },
    {
      "cell_type": "markdown",
      "metadata": {
        "id": "hKScy_LdbfYD"
      },
      "source": [
        "# Aggregation\n",
        "\n",
        "Problem 4:\n",
        "\n",
        "Get the average base pay from the table."
      ]
    },
    {
      "cell_type": "code",
      "execution_count": 99,
      "metadata": {
        "id": "iZamsvefbfYE"
      },
      "outputs": [
        {
          "data": {
            "text/html": [
              "<div>\n",
              "<style scoped>\n",
              "    .dataframe tbody tr th:only-of-type {\n",
              "        vertical-align: middle;\n",
              "    }\n",
              "\n",
              "    .dataframe tbody tr th {\n",
              "        vertical-align: top;\n",
              "    }\n",
              "\n",
              "    .dataframe thead th {\n",
              "        text-align: right;\n",
              "    }\n",
              "</style>\n",
              "<table border=\"1\" class=\"dataframe\">\n",
              "  <thead>\n",
              "    <tr style=\"text-align: right;\">\n",
              "      <th></th>\n",
              "      <th>AVG(BasePay)</th>\n",
              "    </tr>\n",
              "  </thead>\n",
              "  <tbody>\n",
              "    <tr>\n",
              "      <th>0</th>\n",
              "      <td>66053.729288</td>\n",
              "    </tr>\n",
              "  </tbody>\n",
              "</table>\n",
              "</div>"
            ],
            "text/plain": [
              "   AVG(BasePay)\n",
              "0  66053.729288"
            ]
          },
          "execution_count": 99,
          "metadata": {},
          "output_type": "execute_result"
        }
      ],
      "source": [
        "query = 'SELECT AVG(BasePay) FROM salaries'\n",
        "\n",
        "df = pd.read_sql(query, conn)\n",
        "df.head()"
      ]
    },
    {
      "cell_type": "markdown",
      "metadata": {
        "id": "_8wLNfynbfYE"
      },
      "source": [
        "Problem 5:\n",
        "\n",
        "Produce and print the head of a dataframe that shows the average pay for each year (only use a single, simple query). Your result should have a column for the year and a column for the average base pay."
      ]
    },
    {
      "cell_type": "code",
      "execution_count": 100,
      "metadata": {
        "id": "a1ePt5wXbfYE"
      },
      "outputs": [
        {
          "data": {
            "text/html": [
              "<div>\n",
              "<style scoped>\n",
              "    .dataframe tbody tr th:only-of-type {\n",
              "        vertical-align: middle;\n",
              "    }\n",
              "\n",
              "    .dataframe tbody tr th {\n",
              "        vertical-align: top;\n",
              "    }\n",
              "\n",
              "    .dataframe thead th {\n",
              "        text-align: right;\n",
              "    }\n",
              "</style>\n",
              "<table border=\"1\" class=\"dataframe\">\n",
              "  <thead>\n",
              "    <tr style=\"text-align: right;\">\n",
              "      <th></th>\n",
              "      <th>Year</th>\n",
              "      <th>AVG(BasePay)</th>\n",
              "    </tr>\n",
              "  </thead>\n",
              "  <tbody>\n",
              "    <tr>\n",
              "      <th>0</th>\n",
              "      <td>2011</td>\n",
              "      <td>63595.956517</td>\n",
              "    </tr>\n",
              "    <tr>\n",
              "      <th>1</th>\n",
              "      <td>2012</td>\n",
              "      <td>65436.406857</td>\n",
              "    </tr>\n",
              "    <tr>\n",
              "      <th>2</th>\n",
              "      <td>2013</td>\n",
              "      <td>68509.832156</td>\n",
              "    </tr>\n",
              "    <tr>\n",
              "      <th>3</th>\n",
              "      <td>2014</td>\n",
              "      <td>66557.437750</td>\n",
              "    </tr>\n",
              "  </tbody>\n",
              "</table>\n",
              "</div>"
            ],
            "text/plain": [
              "   Year  AVG(BasePay)\n",
              "0  2011  63595.956517\n",
              "1  2012  65436.406857\n",
              "2  2013  68509.832156\n",
              "3  2014  66557.437750"
            ]
          },
          "execution_count": 100,
          "metadata": {},
          "output_type": "execute_result"
        }
      ],
      "source": [
        "query = 'SELECT Year, AVG(BasePay) FROM salaries GROUP BY Year'\n",
        "\n",
        "df = pd.read_sql(query, conn)\n",
        "df.head()"
      ]
    },
    {
      "cell_type": "markdown",
      "metadata": {
        "id": "D--viV17bfYE"
      },
      "source": [
        "Problem 6:\n",
        "\n",
        "Create a dataframe with averages of base pay, benefits, and overtime for each job title, as well as a column with the average of these three values."
      ]
    },
    {
      "cell_type": "code",
      "execution_count": 101,
      "metadata": {
        "id": "lU6m6eHbbfYE"
      },
      "outputs": [],
      "source": [
        "query = 'SELECT JobTitle, AVG(BasePay), AVG(Benefits), AVG(OvertimePay), (AVG(BasePay) + AVG(Benefits) + AVG(OvertimePay)) AS Average FROM salaries GROUP BY JobTitle'\n",
        "df = pd.read_sql(query, conn)\n",
        "#df.head()"
      ]
    },
    {
      "cell_type": "markdown",
      "metadata": {
        "id": "m4b4gjXgbfYE"
      },
      "source": [
        "# Table Creation\n",
        "\n",
        "Problem 7:\n",
        "\n",
        "Now we'll create our own table in our database. Separate the Salaries table by Year, and add it back to the database. (You may use basic python to complete the task, however, should still use SQL to query the data.)"
      ]
    },
    {
      "cell_type": "code",
      "execution_count": 103,
      "metadata": {
        "id": "z8F-yyaobfYE"
      },
      "outputs": [
        {
          "name": "stdout",
          "output_type": "stream",
          "text": [
            "Created table Y2011\n",
            "Created table Y2012\n",
            "Created table Y2013\n",
            "Created table Y2014\n"
          ]
        }
      ],
      "source": [
        "for y in ['2011','2012','2013','2014']:\n",
        "    query = f'''CREATE TABLE IF NOT EXISTS Y{y} AS SELECT * FROM salaries WHERE Year = {y}'''\n",
        "\n",
        "    df.to_sql(name='Y'+y, con=conn, if_exists='replace')\n",
        "    crsr.execute(query)\n",
        "    print(f'Created table Y{y}')\n",
        "\n",
        "conn.commit()"
      ]
    },
    {
      "cell_type": "code",
      "execution_count": 106,
      "metadata": {},
      "outputs": [
        {
          "data": {
            "text/html": [
              "<div>\n",
              "<style scoped>\n",
              "    .dataframe tbody tr th:only-of-type {\n",
              "        vertical-align: middle;\n",
              "    }\n",
              "\n",
              "    .dataframe tbody tr th {\n",
              "        vertical-align: top;\n",
              "    }\n",
              "\n",
              "    .dataframe thead th {\n",
              "        text-align: right;\n",
              "    }\n",
              "</style>\n",
              "<table border=\"1\" class=\"dataframe\">\n",
              "  <thead>\n",
              "    <tr style=\"text-align: right;\">\n",
              "      <th></th>\n",
              "      <th>index</th>\n",
              "      <th>JobTitle</th>\n",
              "      <th>AVG(BasePay)</th>\n",
              "      <th>AVG(Benefits)</th>\n",
              "      <th>AVG(OvertimePay)</th>\n",
              "      <th>Average</th>\n",
              "    </tr>\n",
              "  </thead>\n",
              "  <tbody>\n",
              "    <tr>\n",
              "      <th>0</th>\n",
              "      <td>0</td>\n",
              "      <td>ACCOUNT CLERK</td>\n",
              "      <td>43300.806506</td>\n",
              "      <td>0.00</td>\n",
              "      <td>373.200843</td>\n",
              "      <td>43674.007349</td>\n",
              "    </tr>\n",
              "    <tr>\n",
              "      <th>1</th>\n",
              "      <td>1</td>\n",
              "      <td>ACCOUNTANT</td>\n",
              "      <td>46643.172000</td>\n",
              "      <td>0.00</td>\n",
              "      <td>0.000000</td>\n",
              "      <td>46643.172000</td>\n",
              "    </tr>\n",
              "    <tr>\n",
              "      <th>2</th>\n",
              "      <td>2</td>\n",
              "      <td>ACCOUNTANT INTERN</td>\n",
              "      <td>28732.663958</td>\n",
              "      <td>0.00</td>\n",
              "      <td>24.430625</td>\n",
              "      <td>28757.094583</td>\n",
              "    </tr>\n",
              "    <tr>\n",
              "      <th>3</th>\n",
              "      <td>3</td>\n",
              "      <td>ACPO,JuvP, Juv Prob (SFERS)</td>\n",
              "      <td>62290.780000</td>\n",
              "      <td>17975.59</td>\n",
              "      <td>0.000000</td>\n",
              "      <td>80266.370000</td>\n",
              "    </tr>\n",
              "    <tr>\n",
              "      <th>4</th>\n",
              "      <td>4</td>\n",
              "      <td>ACUPUNCTURIST</td>\n",
              "      <td>66374.400000</td>\n",
              "      <td>0.00</td>\n",
              "      <td>0.000000</td>\n",
              "      <td>66374.400000</td>\n",
              "    </tr>\n",
              "  </tbody>\n",
              "</table>\n",
              "</div>"
            ],
            "text/plain": [
              "   index                     JobTitle  AVG(BasePay)  AVG(Benefits)  \\\n",
              "0      0                ACCOUNT CLERK  43300.806506           0.00   \n",
              "1      1                   ACCOUNTANT  46643.172000           0.00   \n",
              "2      2            ACCOUNTANT INTERN  28732.663958           0.00   \n",
              "3      3  ACPO,JuvP, Juv Prob (SFERS)  62290.780000       17975.59   \n",
              "4      4                ACUPUNCTURIST  66374.400000           0.00   \n",
              "\n",
              "   AVG(OvertimePay)       Average  \n",
              "0        373.200843  43674.007349  \n",
              "1          0.000000  46643.172000  \n",
              "2         24.430625  28757.094583  \n",
              "3          0.000000  80266.370000  \n",
              "4          0.000000  66374.400000  "
            ]
          },
          "execution_count": 106,
          "metadata": {},
          "output_type": "execute_result"
        }
      ],
      "source": [
        "# TESTING\n",
        "# query = 'SELECT * FROM Y2011'\n",
        "# new_df = pd.read_sql(query, conn)\n",
        "# new_df.head()"
      ]
    },
    {
      "cell_type": "markdown",
      "metadata": {
        "id": "c2jdjb-2bfYE"
      },
      "source": [
        "# Table Joining\n",
        "\n",
        "Problem 8:\n",
        "\n",
        "We'll move on to a new dataset for the next steps.\n",
        "Download the dataset from here (https://www.kaggle.com/datasets/luizpaulodeoliveira/imdb-project-sql) and load the sqlite file same as before. Start by just selecting everything in the \"movies\" table to see what it looks like."
      ]
    },
    {
      "cell_type": "code",
      "execution_count": 107,
      "metadata": {
        "id": "iujQchKVbfYE"
      },
      "outputs": [
        {
          "data": {
            "text/html": [
              "<div>\n",
              "<style scoped>\n",
              "    .dataframe tbody tr th:only-of-type {\n",
              "        vertical-align: middle;\n",
              "    }\n",
              "\n",
              "    .dataframe tbody tr th {\n",
              "        vertical-align: top;\n",
              "    }\n",
              "\n",
              "    .dataframe thead th {\n",
              "        text-align: right;\n",
              "    }\n",
              "</style>\n",
              "<table border=\"1\" class=\"dataframe\">\n",
              "  <thead>\n",
              "    <tr style=\"text-align: right;\">\n",
              "      <th></th>\n",
              "      <th>id</th>\n",
              "      <th>original_title</th>\n",
              "      <th>budget</th>\n",
              "      <th>popularity</th>\n",
              "      <th>release_date</th>\n",
              "      <th>revenue</th>\n",
              "      <th>title</th>\n",
              "      <th>vote_average</th>\n",
              "      <th>vote_count</th>\n",
              "      <th>overview</th>\n",
              "      <th>tagline</th>\n",
              "      <th>uid</th>\n",
              "      <th>director_id</th>\n",
              "    </tr>\n",
              "  </thead>\n",
              "  <tbody>\n",
              "    <tr>\n",
              "      <th>0</th>\n",
              "      <td>43597</td>\n",
              "      <td>Avatar</td>\n",
              "      <td>237000000</td>\n",
              "      <td>150</td>\n",
              "      <td>2009-12-10</td>\n",
              "      <td>2787965087</td>\n",
              "      <td>Avatar</td>\n",
              "      <td>7.2</td>\n",
              "      <td>11800</td>\n",
              "      <td>In the 22nd century, a paraplegic Marine is di...</td>\n",
              "      <td>Enter the World of Pandora.</td>\n",
              "      <td>19995</td>\n",
              "      <td>4762</td>\n",
              "    </tr>\n",
              "    <tr>\n",
              "      <th>1</th>\n",
              "      <td>43598</td>\n",
              "      <td>Pirates of the Caribbean: At World's End</td>\n",
              "      <td>300000000</td>\n",
              "      <td>139</td>\n",
              "      <td>2007-05-19</td>\n",
              "      <td>961000000</td>\n",
              "      <td>Pirates of the Caribbean: At World's End</td>\n",
              "      <td>6.9</td>\n",
              "      <td>4500</td>\n",
              "      <td>Captain Barbossa, long believed to be dead, ha...</td>\n",
              "      <td>At the end of the world, the adventure begins.</td>\n",
              "      <td>285</td>\n",
              "      <td>4763</td>\n",
              "    </tr>\n",
              "    <tr>\n",
              "      <th>2</th>\n",
              "      <td>43599</td>\n",
              "      <td>Spectre</td>\n",
              "      <td>245000000</td>\n",
              "      <td>107</td>\n",
              "      <td>2015-10-26</td>\n",
              "      <td>880674609</td>\n",
              "      <td>Spectre</td>\n",
              "      <td>6.3</td>\n",
              "      <td>4466</td>\n",
              "      <td>A cryptic message from Bond’s past sends him o...</td>\n",
              "      <td>A Plan No One Escapes</td>\n",
              "      <td>206647</td>\n",
              "      <td>4764</td>\n",
              "    </tr>\n",
              "    <tr>\n",
              "      <th>3</th>\n",
              "      <td>43600</td>\n",
              "      <td>The Dark Knight Rises</td>\n",
              "      <td>250000000</td>\n",
              "      <td>112</td>\n",
              "      <td>2012-07-16</td>\n",
              "      <td>1084939099</td>\n",
              "      <td>The Dark Knight Rises</td>\n",
              "      <td>7.6</td>\n",
              "      <td>9106</td>\n",
              "      <td>Following the death of District Attorney Harve...</td>\n",
              "      <td>The Legend Ends</td>\n",
              "      <td>49026</td>\n",
              "      <td>4765</td>\n",
              "    </tr>\n",
              "    <tr>\n",
              "      <th>4</th>\n",
              "      <td>43601</td>\n",
              "      <td>John Carter</td>\n",
              "      <td>260000000</td>\n",
              "      <td>43</td>\n",
              "      <td>2012-03-07</td>\n",
              "      <td>284139100</td>\n",
              "      <td>John Carter</td>\n",
              "      <td>6.1</td>\n",
              "      <td>2124</td>\n",
              "      <td>John Carter is a war-weary, former military ca...</td>\n",
              "      <td>Lost in our world, found in another.</td>\n",
              "      <td>49529</td>\n",
              "      <td>4766</td>\n",
              "    </tr>\n",
              "  </tbody>\n",
              "</table>\n",
              "</div>"
            ],
            "text/plain": [
              "      id                            original_title     budget  popularity  \\\n",
              "0  43597                                    Avatar  237000000         150   \n",
              "1  43598  Pirates of the Caribbean: At World's End  300000000         139   \n",
              "2  43599                                   Spectre  245000000         107   \n",
              "3  43600                     The Dark Knight Rises  250000000         112   \n",
              "4  43601                               John Carter  260000000          43   \n",
              "\n",
              "  release_date     revenue                                     title  \\\n",
              "0   2009-12-10  2787965087                                    Avatar   \n",
              "1   2007-05-19   961000000  Pirates of the Caribbean: At World's End   \n",
              "2   2015-10-26   880674609                                   Spectre   \n",
              "3   2012-07-16  1084939099                     The Dark Knight Rises   \n",
              "4   2012-03-07   284139100                               John Carter   \n",
              "\n",
              "   vote_average  vote_count  \\\n",
              "0           7.2       11800   \n",
              "1           6.9        4500   \n",
              "2           6.3        4466   \n",
              "3           7.6        9106   \n",
              "4           6.1        2124   \n",
              "\n",
              "                                            overview  \\\n",
              "0  In the 22nd century, a paraplegic Marine is di...   \n",
              "1  Captain Barbossa, long believed to be dead, ha...   \n",
              "2  A cryptic message from Bond’s past sends him o...   \n",
              "3  Following the death of District Attorney Harve...   \n",
              "4  John Carter is a war-weary, former military ca...   \n",
              "\n",
              "                                          tagline     uid  director_id  \n",
              "0                     Enter the World of Pandora.   19995         4762  \n",
              "1  At the end of the world, the adventure begins.     285         4763  \n",
              "2                           A Plan No One Escapes  206647         4764  \n",
              "3                                 The Legend Ends   49026         4765  \n",
              "4            Lost in our world, found in another.   49529         4766  "
            ]
          },
          "execution_count": 107,
          "metadata": {},
          "output_type": "execute_result"
        }
      ],
      "source": [
        "conn = sqlite3.connect(\"movies.sqlite\")\n",
        "query = 'select * from movies'\n",
        "\n",
        "df = pd.read_sql(query, conn)\n",
        "df.head()"
      ]
    },
    {
      "cell_type": "markdown",
      "metadata": {
        "id": "7CEheFlFbfYE"
      },
      "source": [
        "Problem 9:\n",
        "\n",
        "Create a dataframe that includes the entire contents of \"movies\" table as well as the director's name."
      ]
    },
    {
      "cell_type": "code",
      "execution_count": 114,
      "metadata": {
        "id": "QqpzQ2GCbfYE"
      },
      "outputs": [
        {
          "name": "stdout",
          "output_type": "stream",
          "text": [
            "      id                            original_title     budget  popularity  \\\n",
            "0  43597                                    Avatar  237000000         150   \n",
            "1  43598  Pirates of the Caribbean: At World's End  300000000         139   \n",
            "2  43599                                   Spectre  245000000         107   \n",
            "3  43600                     The Dark Knight Rises  250000000         112   \n",
            "4  43601                               John Carter  260000000          43   \n",
            "\n",
            "  release_date     revenue                                     title  \\\n",
            "0   2009-12-10  2787965087                                    Avatar   \n",
            "1   2007-05-19   961000000  Pirates of the Caribbean: At World's End   \n",
            "2   2015-10-26   880674609                                   Spectre   \n",
            "3   2012-07-16  1084939099                     The Dark Knight Rises   \n",
            "4   2012-03-07   284139100                               John Carter   \n",
            "\n",
            "   vote_average  vote_count  \\\n",
            "0           7.2       11800   \n",
            "1           6.9        4500   \n",
            "2           6.3        4466   \n",
            "3           7.6        9106   \n",
            "4           6.1        2124   \n",
            "\n",
            "                                            overview  \\\n",
            "0  In the 22nd century, a paraplegic Marine is di...   \n",
            "1  Captain Barbossa, long believed to be dead, ha...   \n",
            "2  A cryptic message from Bond’s past sends him o...   \n",
            "3  Following the death of District Attorney Harve...   \n",
            "4  John Carter is a war-weary, former military ca...   \n",
            "\n",
            "                                          tagline     uid  director_id  \\\n",
            "0                     Enter the World of Pandora.   19995         4762   \n",
            "1  At the end of the world, the adventure begins.     285         4763   \n",
            "2                           A Plan No One Escapes  206647         4764   \n",
            "3                                 The Legend Ends   49026         4765   \n",
            "4            Lost in our world, found in another.   49529         4766   \n",
            "\n",
            "       director_name  \n",
            "0      James Cameron  \n",
            "1     Gore Verbinski  \n",
            "2         Sam Mendes  \n",
            "3  Christopher Nolan  \n",
            "4     Andrew Stanton  \n"
          ]
        },
        {
          "data": {
            "text/plain": [
              "66822"
            ]
          },
          "execution_count": 114,
          "metadata": {},
          "output_type": "execute_result"
        }
      ],
      "source": [
        "query = f'''\n",
        "  SELECT m.*, d.name AS director_name \n",
        "  FROM movies AS m \n",
        "  JOIN directors AS d ON m.director_id = d.id\n",
        "  '''\n",
        "df = pd.read_sql(query, conn)\n",
        "\n",
        "print(df.head(5))\n",
        "df.size"
      ]
    },
    {
      "cell_type": "markdown",
      "metadata": {
        "id": "uI8JdgF7bfYF"
      },
      "source": [
        "# Analysis\n",
        "\n",
        "The next few problems will be more involved! You'll need to combine some concepts you've learned. For each cell, show your work.\n",
        "\\\n",
        "Remember, the answers should be in **a single query**.\n",
        "\n",
        "\\\n",
        "Problem 10:\n",
        "\n",
        "What is the average budget used for the top 10 grossing movies?\n"
      ]
    },
    {
      "cell_type": "code",
      "execution_count": 125,
      "metadata": {
        "id": "KOCBiyFcbfYF"
      },
      "outputs": [
        {
          "data": {
            "text/plain": [
              "195100000.0"
            ]
          },
          "execution_count": 125,
          "metadata": {},
          "output_type": "execute_result"
        }
      ],
      "source": [
        "query = '''\n",
        "SELECT AVG(budget) AS average_budget\n",
        "FROM (\n",
        "  SELECT budget FROM movies\n",
        "  ORDER BY revenue DESC\n",
        "  LIMIT 10\n",
        ")\n",
        "'''\n",
        "df = pd.read_sql(query, conn)\n",
        "df[\"average_budget\"][0]"
      ]
    },
    {
      "cell_type": "markdown",
      "metadata": {
        "id": "VzurS_SjbfYF"
      },
      "source": [
        "Problem 11:\n",
        "\n",
        "Which directors have the highest overall voting average? - show the top 5 directors' name and their average rating"
      ]
    },
    {
      "cell_type": "code",
      "execution_count": 126,
      "metadata": {
        "id": "f2n8u0xwbfYF"
      },
      "outputs": [
        {
          "data": {
            "text/html": [
              "<div>\n",
              "<style scoped>\n",
              "    .dataframe tbody tr th:only-of-type {\n",
              "        vertical-align: middle;\n",
              "    }\n",
              "\n",
              "    .dataframe tbody tr th {\n",
              "        vertical-align: top;\n",
              "    }\n",
              "\n",
              "    .dataframe thead th {\n",
              "        text-align: right;\n",
              "    }\n",
              "</style>\n",
              "<table border=\"1\" class=\"dataframe\">\n",
              "  <thead>\n",
              "    <tr style=\"text-align: right;\">\n",
              "      <th></th>\n",
              "      <th>director_name</th>\n",
              "      <th>average_rating</th>\n",
              "    </tr>\n",
              "  </thead>\n",
              "  <tbody>\n",
              "    <tr>\n",
              "      <th>0</th>\n",
              "      <td>Gary Sinyor</td>\n",
              "      <td>10.00</td>\n",
              "    </tr>\n",
              "    <tr>\n",
              "      <th>1</th>\n",
              "      <td>Rohit Jugraj</td>\n",
              "      <td>9.50</td>\n",
              "    </tr>\n",
              "    <tr>\n",
              "      <th>2</th>\n",
              "      <td>Lance Hool</td>\n",
              "      <td>9.30</td>\n",
              "    </tr>\n",
              "    <tr>\n",
              "      <th>3</th>\n",
              "      <td>Floyd Mutrux</td>\n",
              "      <td>8.50</td>\n",
              "    </tr>\n",
              "    <tr>\n",
              "      <th>4</th>\n",
              "      <td>Tim McCanlies</td>\n",
              "      <td>8.45</td>\n",
              "    </tr>\n",
              "  </tbody>\n",
              "</table>\n",
              "</div>"
            ],
            "text/plain": [
              "   director_name  average_rating\n",
              "0    Gary Sinyor           10.00\n",
              "1   Rohit Jugraj            9.50\n",
              "2     Lance Hool            9.30\n",
              "3   Floyd Mutrux            8.50\n",
              "4  Tim McCanlies            8.45"
            ]
          },
          "execution_count": 126,
          "metadata": {},
          "output_type": "execute_result"
        }
      ],
      "source": [
        "query = '''\n",
        "SELECT d.name AS director_name, AVG(m.vote_average) AS average_rating\n",
        "FROM movies AS m\n",
        "JOIN directors AS d ON m.director_id = d.id\n",
        "GROUP BY director_name\n",
        "ORDER BY average_rating DESC\n",
        "LIMIT 5\n",
        "'''\n",
        "df = pd.read_sql(query, conn)\n",
        "df\n"
      ]
    },
    {
      "cell_type": "markdown",
      "metadata": {
        "id": "zcnqToc-bfYF"
      },
      "source": [
        "Problem 12:\n",
        "\n",
        "What are the top five directors by how much their average budget is?"
      ]
    },
    {
      "cell_type": "code",
      "execution_count": 135,
      "metadata": {
        "id": "CBjeMaxybfYF"
      },
      "outputs": [
        {
          "data": {
            "text/html": [
              "<div>\n",
              "<style scoped>\n",
              "    .dataframe tbody tr th:only-of-type {\n",
              "        vertical-align: middle;\n",
              "    }\n",
              "\n",
              "    .dataframe tbody tr th {\n",
              "        vertical-align: top;\n",
              "    }\n",
              "\n",
              "    .dataframe thead th {\n",
              "        text-align: right;\n",
              "    }\n",
              "</style>\n",
              "<table border=\"1\" class=\"dataframe\">\n",
              "  <thead>\n",
              "    <tr style=\"text-align: right;\">\n",
              "      <th></th>\n",
              "      <th>director_name</th>\n",
              "      <th>average_budget</th>\n",
              "    </tr>\n",
              "  </thead>\n",
              "  <tbody>\n",
              "    <tr>\n",
              "      <th>0</th>\n",
              "      <td>Byron Howard</td>\n",
              "      <td>2.600000e+08</td>\n",
              "    </tr>\n",
              "    <tr>\n",
              "      <th>1</th>\n",
              "      <td>Lee Unkrich</td>\n",
              "      <td>2.000000e+08</td>\n",
              "    </tr>\n",
              "    <tr>\n",
              "      <th>2</th>\n",
              "      <td>Dan Scanlon</td>\n",
              "      <td>2.000000e+08</td>\n",
              "    </tr>\n",
              "    <tr>\n",
              "      <th>3</th>\n",
              "      <td>David Yates</td>\n",
              "      <td>1.933333e+08</td>\n",
              "    </tr>\n",
              "    <tr>\n",
              "      <th>4</th>\n",
              "      <td>Brenda Chapman</td>\n",
              "      <td>1.850000e+08</td>\n",
              "    </tr>\n",
              "  </tbody>\n",
              "</table>\n",
              "</div>"
            ],
            "text/plain": [
              "    director_name  average_budget\n",
              "0    Byron Howard    2.600000e+08\n",
              "1     Lee Unkrich    2.000000e+08\n",
              "2     Dan Scanlon    2.000000e+08\n",
              "3     David Yates    1.933333e+08\n",
              "4  Brenda Chapman    1.850000e+08"
            ]
          },
          "execution_count": 135,
          "metadata": {},
          "output_type": "execute_result"
        }
      ],
      "source": [
        "query = '''\n",
        "SELECT d.name AS director_name, AVG(m.budget) AS average_budget\n",
        "FROM movies AS m\n",
        "JOIN directors AS d ON m.director_id = d.id\n",
        "GROUP BY director_name\n",
        "ORDER BY average_budget DESC\n",
        "LIMIT 5\n",
        "'''\n",
        "df = pd.read_sql(query, conn)\n",
        "df"
      ]
    }
  ],
  "metadata": {
    "colab": {
      "provenance": []
    },
    "kernelspec": {
      "display_name": "Python 3 (ipykernel)",
      "language": "python",
      "name": "python3"
    },
    "language_info": {
      "codemirror_mode": {
        "name": "ipython",
        "version": 3
      },
      "file_extension": ".py",
      "mimetype": "text/x-python",
      "name": "python",
      "nbconvert_exporter": "python",
      "pygments_lexer": "ipython3",
      "version": "3.10.10"
    },
    "vscode": {
      "interpreter": {
        "hash": "a2e5d560d28a599890fdd7539b19577a9de153f4e292870f76387166d24c392f"
      }
    }
  },
  "nbformat": 4,
  "nbformat_minor": 0
}
